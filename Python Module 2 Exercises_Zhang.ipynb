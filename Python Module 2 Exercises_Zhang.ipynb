{
 "cells": [
  {
   "cell_type": "markdown",
   "metadata": {},
   "source": [
    "1. Print out a data type of a variable?"
   ]
  },
  {
   "cell_type": "code",
   "execution_count": 1,
   "metadata": {},
   "outputs": [
    {
     "name": "stdout",
     "output_type": "stream",
     "text": [
      "55\n"
     ]
    }
   ],
   "source": [
    "numb = 55\n",
    "print(numb)"
   ]
  },
  {
   "cell_type": "markdown",
   "metadata": {},
   "source": [
    "2. Round 4.5667 to the nearest hundreth using a build-in function, round()."
   ]
  },
  {
   "cell_type": "code",
   "execution_count": 2,
   "metadata": {},
   "outputs": [
    {
     "name": "stdout",
     "output_type": "stream",
     "text": [
      "4.57\n"
     ]
    }
   ],
   "source": [
    "numb = round (4.566 , 2)\n",
    "print(numb)"
   ]
  },
  {
   "cell_type": "markdown",
   "metadata": {},
   "source": [
    "3. Convert \"657\" to an integer data type"
   ]
  },
  {
   "cell_type": "code",
   "execution_count": 3,
   "metadata": {},
   "outputs": [
    {
     "name": "stdout",
     "output_type": "stream",
     "text": [
      "657\n"
     ]
    }
   ],
   "source": [
    "int_numb = int (\"657\")\n",
    "print(int_numb)"
   ]
  },
  {
   "cell_type": "markdown",
   "metadata": {},
   "source": [
    "4. Write a function to calculate the miles per gallon.\n",
    "Get a miles driven and gallons used from a user and call your function to calculate the miles per gallon. "
   ]
  },
  {
   "cell_type": "code",
   "execution_count": 8,
   "metadata": {},
   "outputs": [
    {
     "name": "stdout",
     "output_type": "stream",
     "text": [
      "Enter miles driven: 500\n",
      "Enter gallons of gas used: 35\n",
      "my mile per gallon is  14.285714285714286\n"
     ]
    }
   ],
   "source": [
    "def my_mile_per_gallon ():\n",
    "    mile = int(input(\"Enter miles driven: \"))\n",
    "    gas = int (input(\"Enter gallons of gas used: \"))\n",
    "    rate = mile / gas\n",
    "    print(\"my mile per gallon is \",rate)\n",
    "my_mile_per_gallon ()\n"
   ]
  },
  {
   "cell_type": "markdown",
   "metadata": {},
   "source": [
    "5. Enhance your function from exercise 3. Additionally, get a gas price per gallon from a user and write a program to compute the total gas cost and cost per mile. \n",
    "\n",
    "The output should look something like this:\n",
    "\n",
    "    Enter miles driven:            150\n",
    "    Enter gallons of gas used:     15\n",
    "    Enter cost per gallon:          3\n",
    "\n",
    "    Miles Per Gallon:   10.0\n",
    "    Total Gas Cost:     45.0\n",
    "    Cost per Mile:      0.3\n"
   ]
  },
  {
   "cell_type": "code",
   "execution_count": 9,
   "metadata": {},
   "outputs": [
    {
     "name": "stdout",
     "output_type": "stream",
     "text": [
      "Enter miles driven: 150\n",
      "Enter gallons of gas used: 15\n",
      "Entercost per gallon: 3\n",
      "my mile per gallon is  10.0\n",
      "Total gas cost is  45\n",
      "Coast per mile is  0.3\n"
     ]
    }
   ],
   "source": [
    "def my_function ():\n",
    "    mile = int(input(\"Enter miles driven: \"))\n",
    "    gas = int (input(\"Enter gallons of gas used: \"))\n",
    "    rate = mile / gas\n",
    "    cost =int(input(\"Entercost per gallon: \"))\n",
    "    \n",
    "    print(\"my mile per gallon is \",rate)\n",
    "    print(\"Total gas cost is \", gas*cost)\n",
    "    print(\"Coast per mile is \", gas*cost/mile)\n",
    "my_function ()"
   ]
  },
  {
   "cell_type": "markdown",
   "metadata": {},
   "source": [
    "6. Write a function called multiply_two() that accepts two parameters. The function should print a message like '15 + 2 = 17'.  Randomly generate two numbers between 1 and 100, then call the function with the two random numbers."
   ]
  },
  {
   "cell_type": "code",
   "execution_count": 12,
   "metadata": {},
   "outputs": [
    {
     "name": "stdout",
     "output_type": "stream",
     "text": [
      "'41 + 28 = 69'\n"
     ]
    }
   ],
   "source": [
    "import random as rand\n",
    "def multply_two (a , b) :\n",
    "    c = a + b\n",
    "    print(f\"'{a} + {b} = {c}'\")\n",
    "a = rand.randint(1,100)\n",
    "b = rand.randint(1,100)\n",
    "multply_two(a,b)"
   ]
  },
  {
   "cell_type": "markdown",
   "metadata": {},
   "source": [
    "7. Write a function called make_shirt() that accepts a size and the text of a message. The function should print a sentence summarizing the size of the shirt and the message printed on it. The default shirt size is large and default message is 'I love Python!' Make a default size shirt with a message, a medium shirt with the default message, and a shirt of any size with a different message."
   ]
  },
  {
   "cell_type": "code",
   "execution_count": 84,
   "metadata": {},
   "outputs": [
    {
     "name": "stdout",
     "output_type": "stream",
     "text": [
      "Enter shirt size: medium\n",
      "Enter the message: \n",
      "The size of shirt is:  medium\n",
      "I love Python\n"
     ]
    }
   ],
   "source": [
    "def make_shirt():\n",
    "    default=\"I love Python\"\n",
    "    size=input(\"Enter shirt size: \")\n",
    "    text=input(\"Enter the message: \")\n",
    "    if size:\n",
    "        print(\"The size of shirt is: \",size)\n",
    "    else:\n",
    "        print(\"The size of shirt is: Large\")\n",
    "    if text:\n",
    "        print(\"The message is: \",text)\n",
    "    else:\n",
    "#        if size=\"medium\": \n",
    "        print(\"I love Python\")\n",
    "\n",
    "\n",
    "#    print(\"The size of shirt is: \",size)\n",
    "    \n",
    "\n",
    "make_shirt()\n"
   ]
  },
  {
   "cell_type": "markdown",
   "metadata": {},
   "source": [
    "8. Create a function for a multiplication table.  Get a number from a user and then call you function which produces a multiplication table for that number.\n",
    "The output should look something like this:\n",
    "\n",
    "        Enter a number: 3\n",
    "        3 X 1 = 3\n",
    "        3 X 2 = 6\n",
    "        3 X 3 = 9\n",
    "        3 X 4 = 12\n",
    "        3 X 5 = 15\n",
    "        3 X 6 = 18\n",
    "        3 X 7 = 21\n",
    "        3 X 8 = 24\n",
    "        3 X 9 = 27\n",
    "        "
   ]
  },
  {
   "cell_type": "code",
   "execution_count": 42,
   "metadata": {},
   "outputs": [
    {
     "name": "stdout",
     "output_type": "stream",
     "text": [
      "Enter a number: 5\n",
      "5 X 1 = 5\n",
      "5 X 2 = 10\n",
      "5 X 3 = 15\n",
      "5 X 4 = 20\n",
      "5 X 5 = 25\n",
      "5 X 6 = 30\n",
      "5 X 7 = 35\n",
      "5 X 8 = 40\n",
      "5 X 9 = 45\n"
     ]
    }
   ],
   "source": [
    "def multi_tab(numb,time):\n",
    "    s1=numb*time\n",
    "    return s1\n",
    "test=int(input(\"Enter a number: \"))\n",
    "print(f\"{test} X 1 = {multi_tab(test,1)}\")\n",
    "print(f\"{test} X 2 = {multi_tab(test,2)}\")\n",
    "print(f\"{test} X 3 = {multi_tab(test,3)}\")\n",
    "print(f\"{test} X 4 = {multi_tab(test,4)}\")\n",
    "print(f\"{test} X 5 = {multi_tab(test,5)}\")\n",
    "print(f\"{test} X 6 = {multi_tab(test,6)}\")\n",
    "print(f\"{test} X 7 = {multi_tab(test,7)}\")\n",
    "print(f\"{test} X 8 = {multi_tab(test,8)}\")\n",
    "print(f\"{test} X 9 = {multi_tab(test,9)}\")"
   ]
  },
  {
   "cell_type": "markdown",
   "metadata": {},
   "source": [
    "9. Write a function that accepts a string and returns a string that is \n",
    "    - without any leading nor trailing blanks\n",
    "    - converts to all capital letters\n",
    "    - and replaces all blanks with a period(.).  \n",
    "\n",
    "Write a program to accept a string from a user then call your function and display the original string and changed string.  \n",
    "\n",
    "The output should look something like this:\n",
    "\n",
    "        Enter a text: may your dreams come true\n",
    "        \n",
    "        Original Text: may your dreams come true\n",
    "        New Text: MAY.YOUR.DREAMS.COME.TRUE"
   ]
  },
  {
   "cell_type": "code",
   "execution_count": 56,
   "metadata": {},
   "outputs": [
    {
     "name": "stdout",
     "output_type": "stream",
     "text": [
      "Enter a text:      this is a right answer\n",
      "Original Text:  this is a right answer\n",
      "New Text:  THIS.IS.A.RIGHT.ANSWER\n"
     ]
    }
   ],
   "source": [
    "def my_function():\n",
    "    mes=input(\"Enter a text: \")\n",
    "    smes=mes.strip()\n",
    "\n",
    "    print(\"Original Text: \",smes)\n",
    "    cmas=smes.upper()\n",
    "#    print(cmas)\n",
    "    print(\"New Text: \",cmas.replace(\" \",\".\"))\n",
    "\n",
    "my_function()"
   ]
  },
  {
   "cell_type": "markdown",
   "metadata": {},
   "source": [
    "10. Write a function that returns a randomly selected character from a passed string. Write a program to accept a string from a user then call your function and display the original string and selected character.\n",
    "\n",
    "The output should look something like this:\n",
    "\n",
    "        Enter a text: functions\n",
    "        Original Text:\tfunctions\n",
    "        Random character:\ts"
   ]
  },
  {
   "cell_type": "code",
   "execution_count": 66,
   "metadata": {},
   "outputs": [
    {
     "name": "stdout",
     "output_type": "stream",
     "text": [
      "Enter a text: wellcome\n",
      "Origional text is:  wellcome\n",
      "Lenthen of the text:  8\n",
      "Random character number is:  8\n",
      "The character of 8 is e\n"
     ]
    }
   ],
   "source": [
    "import random as rand\n",
    "def my_chara():\n",
    "    chara=input(\"Enter a text: \")\n",
    "    return chara.strip()\n",
    "word=my_chara()\n",
    "print(\"Origional text is: \",word)\n",
    "nlen=len(word)\n",
    "print(\"Lenthen of the text: \",nlen)\n",
    "rnum=rand.randint(1,nlen)\n",
    "print(\"Random character number is: \", rnum)\n",
    "print(f\"The character of {rnum} is {word[rnum-1]}\")\n",
    "\n"
   ]
  },
  {
   "cell_type": "code",
   "execution_count": null,
   "metadata": {},
   "outputs": [],
   "source": []
  }
 ],
 "metadata": {
  "kernelspec": {
   "display_name": "Python 3",
   "language": "python",
   "name": "python3"
  },
  "language_info": {
   "codemirror_mode": {
    "name": "ipython",
    "version": 3
   },
   "file_extension": ".py",
   "mimetype": "text/x-python",
   "name": "python",
   "nbconvert_exporter": "python",
   "pygments_lexer": "ipython3",
   "version": "3.8.8"
  }
 },
 "nbformat": 4,
 "nbformat_minor": 4
}
